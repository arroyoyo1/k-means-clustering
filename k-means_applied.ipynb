{
 "cells": [
  {
   "cell_type": "markdown",
   "metadata": {},
   "source": [
    "### K-Means Clustering on soil data from Pueblo County, Colorado"
   ]
  },
  {
   "cell_type": "code",
   "execution_count": 1,
   "metadata": {},
   "outputs": [],
   "source": [
    "# Importing libraries\n",
    "import pandas as pd\n",
    "import numpy as np\n",
    "import matplotlib.pyplot as plt\n",
    "import seaborn as sns\n",
    "import plotly.express as px\n",
    "import pyarrow\n",
    "\n",
    "# Importing libraries for KMeans and Heirarchical Clustering\n",
    "from sklearn.cluster import KMeans\n",
    "from scipy.cluster.hierarchy import dendrogram, linkage\n",
    "from sklearn.metrics import silhouette_score\n",
    "from sklearn.preprocessing import StandardScaler"
   ]
  },
  {
   "cell_type": "code",
   "execution_count": 2,
   "metadata": {},
   "outputs": [
    {
     "data": {
      "text/html": [
       "<div>\n",
       "<style scoped>\n",
       "    .dataframe tbody tr th:only-of-type {\n",
       "        vertical-align: middle;\n",
       "    }\n",
       "\n",
       "    .dataframe tbody tr th {\n",
       "        vertical-align: top;\n",
       "    }\n",
       "\n",
       "    .dataframe thead th {\n",
       "        text-align: right;\n",
       "    }\n",
       "</style>\n",
       "<table border=\"1\" class=\"dataframe\">\n",
       "  <thead>\n",
       "    <tr style=\"text-align: right;\">\n",
       "      <th></th>\n",
       "      <th>date</th>\n",
       "      <th>precip</th>\n",
       "      <th>max_temp</th>\n",
       "      <th>min_temp</th>\n",
       "      <th>gwl</th>\n",
       "      <th>sm_20cm</th>\n",
       "      <th>st_20cm</th>\n",
       "      <th>sm_50cm</th>\n",
       "      <th>st_50cm</th>\n",
       "      <th>sm_100cm</th>\n",
       "      <th>st_100cm</th>\n",
       "      <th>daily_discharge_cfs</th>\n",
       "      <th>sm_pca</th>\n",
       "      <th>st_pca</th>\n",
       "    </tr>\n",
       "  </thead>\n",
       "  <tbody>\n",
       "    <tr>\n",
       "      <th>0</th>\n",
       "      <td>2010-02-14</td>\n",
       "      <td>0.0</td>\n",
       "      <td>36</td>\n",
       "      <td>13</td>\n",
       "      <td>20.52</td>\n",
       "      <td>0.205500</td>\n",
       "      <td>0.408333</td>\n",
       "      <td>0.182875</td>\n",
       "      <td>1.320833</td>\n",
       "      <td>0.135333</td>\n",
       "      <td>3.700000</td>\n",
       "      <td>136.0</td>\n",
       "      <td>3.619512</td>\n",
       "      <td>0.190574</td>\n",
       "    </tr>\n",
       "    <tr>\n",
       "      <th>1</th>\n",
       "      <td>2010-02-15</td>\n",
       "      <td>0.0</td>\n",
       "      <td>41</td>\n",
       "      <td>7</td>\n",
       "      <td>20.51</td>\n",
       "      <td>0.215333</td>\n",
       "      <td>0.595833</td>\n",
       "      <td>0.183292</td>\n",
       "      <td>1.445833</td>\n",
       "      <td>0.137250</td>\n",
       "      <td>3.625000</td>\n",
       "      <td>129.0</td>\n",
       "      <td>3.470118</td>\n",
       "      <td>0.209177</td>\n",
       "    </tr>\n",
       "    <tr>\n",
       "      <th>2</th>\n",
       "      <td>2010-02-16</td>\n",
       "      <td>0.0</td>\n",
       "      <td>43</td>\n",
       "      <td>8</td>\n",
       "      <td>20.51</td>\n",
       "      <td>0.210417</td>\n",
       "      <td>0.500000</td>\n",
       "      <td>0.183625</td>\n",
       "      <td>1.495833</td>\n",
       "      <td>0.136583</td>\n",
       "      <td>3.700000</td>\n",
       "      <td>130.0</td>\n",
       "      <td>3.433721</td>\n",
       "      <td>0.197542</td>\n",
       "    </tr>\n",
       "    <tr>\n",
       "      <th>3</th>\n",
       "      <td>2010-02-17</td>\n",
       "      <td>0.0</td>\n",
       "      <td>51</td>\n",
       "      <td>10</td>\n",
       "      <td>20.51</td>\n",
       "      <td>0.209708</td>\n",
       "      <td>0.500000</td>\n",
       "      <td>0.184667</td>\n",
       "      <td>1.437500</td>\n",
       "      <td>0.135625</td>\n",
       "      <td>3.645833</td>\n",
       "      <td>132.0</td>\n",
       "      <td>3.351107</td>\n",
       "      <td>0.135033</td>\n",
       "    </tr>\n",
       "    <tr>\n",
       "      <th>4</th>\n",
       "      <td>2010-02-18</td>\n",
       "      <td>0.0</td>\n",
       "      <td>51</td>\n",
       "      <td>16</td>\n",
       "      <td>20.50</td>\n",
       "      <td>0.210542</td>\n",
       "      <td>0.637500</td>\n",
       "      <td>0.185125</td>\n",
       "      <td>1.479167</td>\n",
       "      <td>0.135333</td>\n",
       "      <td>3.708333</td>\n",
       "      <td>135.0</td>\n",
       "      <td>3.238121</td>\n",
       "      <td>0.107690</td>\n",
       "    </tr>\n",
       "  </tbody>\n",
       "</table>\n",
       "</div>"
      ],
      "text/plain": [
       "        date  precip  max_temp  min_temp    gwl   sm_20cm   st_20cm   sm_50cm  \\\n",
       "0 2010-02-14     0.0        36        13  20.52  0.205500  0.408333  0.182875   \n",
       "1 2010-02-15     0.0        41         7  20.51  0.215333  0.595833  0.183292   \n",
       "2 2010-02-16     0.0        43         8  20.51  0.210417  0.500000  0.183625   \n",
       "3 2010-02-17     0.0        51        10  20.51  0.209708  0.500000  0.184667   \n",
       "4 2010-02-18     0.0        51        16  20.50  0.210542  0.637500  0.185125   \n",
       "\n",
       "    st_50cm  sm_100cm  st_100cm  daily_discharge_cfs    sm_pca    st_pca  \n",
       "0  1.320833  0.135333  3.700000                136.0  3.619512  0.190574  \n",
       "1  1.445833  0.137250  3.625000                129.0  3.470118  0.209177  \n",
       "2  1.495833  0.136583  3.700000                130.0  3.433721  0.197542  \n",
       "3  1.437500  0.135625  3.645833                132.0  3.351107  0.135033  \n",
       "4  1.479167  0.135333  3.708333                135.0  3.238121  0.107690  "
      ]
     },
     "execution_count": 2,
     "metadata": {},
     "output_type": "execute_result"
    }
   ],
   "source": [
    "# Reading dataset\n",
    "df = pd.read_parquet('pueblo_pca.parquet')\n",
    "df.head()"
   ]
  },
  {
   "cell_type": "markdown",
   "metadata": {},
   "source": [
    "&emsp; ***Filtering and Cleaning***\n",
    "\n",
    "\n",
    "To begin, I'll create a standardized (with no NaN values) dataset, which contains contains data for: \n",
    "\n",
    "* Precipitation (precip)\n",
    "* Maximum Temperature (max_temp)\n",
    "* Minimum Temperature (min_temp)\n",
    "* Groundwater Level (gwl)\n",
    "* Daily Discharge (daily_discharge_cfs)\n",
    "* Soil Moisture Principal Component Analysis (sm_pca)\n",
    "* Soil Temperature Principal Component Analysis (st_pca)"
   ]
  },
  {
   "cell_type": "code",
   "execution_count": 3,
   "metadata": {},
   "outputs": [
    {
     "name": "stdout",
     "output_type": "stream",
     "text": [
      "(4881, 7)\n",
      "(4718, 7)\n"
     ]
    }
   ],
   "source": [
    "features = ['precip','max_temp','min_temp','gwl','daily_discharge_cfs','sm_pca','st_pca']\n",
    "X = df[features]\n",
    "print(X.shape)\n",
    "\n",
    "# Remove NaN values\n",
    "X = X.dropna()\n",
    "\n",
    "# Standardize the data\n",
    "scaler = StandardScaler()\n",
    "X = scaler.fit_transform(X)\n",
    "\n",
    "# Convert the result back to a DataFrame\n",
    "X = pd.DataFrame(X, columns=features)\n",
    "\n",
    "# Check the shape of the standardized DataFrame\n",
    "print(X.shape)"
   ]
  },
  {
   "cell_type": "markdown",
   "metadata": {},
   "source": [
    "&emsp; ***K-Means Applied - Elbow Plot***\n",
    "\n",
    "Now I'll be performing KMeans clustering with upto 20 clusters and plotting the elbow plot with wcss"
   ]
  },
  {
   "cell_type": "code",
   "execution_count": 4,
   "metadata": {},
   "outputs": [
    {
     "data": {
      "image/png": "[encoded data removed]",
      "text/plain": [
       "<Figure size 1000x500 with 1 Axes>"
      ]
     },
     "metadata": {},
     "output_type": "display_data"
    }
   ],
   "source": [
    "wcss = []\n",
    "for i in range(1, 21):\n",
    "    kmeans = KMeans(n_clusters=i, init='k-means++', max_iter=300, n_init=10, random_state=0)\n",
    "    kmeans.fit(X)  # Fit the model to the data\n",
    "    wcss.append(kmeans.inertia_)  # Append the WCSS value (inertia) for the current number of clusters\n",
    "# Plotting the elbow plot\n",
    "plt.figure(figsize=(10, 5))\n",
    "plt.plot(range(1, 21), wcss)\n",
    "\n",
    "# Add dashed line at 5,6,7,8 clusters\n",
    "plt.axvline(x=4, color='y', linestyle='--')\n",
    "plt.axvline(x=5, color='y', linestyle='--')\n",
    "plt.axvline(x=6, color='r', linestyle='--')\n",
    "plt.axvline(x=7, color='y', linestyle='--')\n",
    "plt.axvline(x=8, color='y', linestyle='--')\n",
    "plt.title('Elbow Method')\n",
    "plt.xlabel('Number of clusters')\n",
    "plt.ylabel('WCSS')\n",
    "plt.show()"
   ]
  },
  {
   "cell_type": "markdown",
   "metadata": {},
   "source": [
    "&emsp; ***K-Means Applied -Silhoutte Score***\n",
    "\n",
    "\n",
    "The **Silhouette Score** is a metric used to evaluate the quality of clustering results. It provides a measure of how similar an object is to its own cluster compared to other clusters. The score ranges from **-1 to 1**, where:\n",
    "\n",
    "- **1** indicates that the object is well-matched to its own cluster and poorly matched to neighboring clusters.\n",
    "- **0** indicates that the object lies on the boundary between two clusters.\n",
    "- **-1** indicates that the object may have been assigned to the wrong cluster.\n",
    "\n",
    "&emsp; ***Practical Usage***\n",
    "\n",
    "The Silhouette Score is often used to:\n",
    "\n",
    "1. Compare the quality of clustering results for different numbers of clusters (\\( k \\)).\n",
    "2. Select the optimal number of clusters (\\( k \\)) by choosing the value that maximizes the Silhouette Score.\n"
   ]
  },
  {
   "cell_type": "code",
   "execution_count": 5,
   "metadata": {},
   "outputs": [
    {
     "data": {
      "image/png": "[encoded data removed]",
      "text/plain": [
       "<Figure size 1000x500 with 1 Axes>"
      ]
     },
     "metadata": {},
     "output_type": "display_data"
    }
   ],
   "source": [
    "\n",
    "silhouette_score_list = []\n",
    "for i in range(2, 21):\n",
    "    kmeans = KMeans(n_clusters=i, init='k-means++', max_iter=300, n_init=10, random_state=0)\n",
    "    labels = kmeans.fit_predict(X)  # Get cluster labels for the data\n",
    "    score = silhouette_score(X, labels)  # Calculate the silhouette score\n",
    "    silhouette_score_list.append(score)  # Append the score to the list\n",
    "    \n",
    "# Plotting the silhouette score\n",
    "plt.figure(figsize=(10, 5))\n",
    "plt.plot(range(2, 21), silhouette_score_list)\n",
    "\n",
    "# Add dashed line at 5,6,7,8 clusters\n",
    "plt.axvline(x=4, color='y', linestyle='--')\n",
    "plt.axvline(x=5, color='y', linestyle='--')\n",
    "plt.axvline(x=6, color='r', linestyle='--')\n",
    "plt.axvline(x=7, color='y', linestyle='--')\n",
    "plt.axvline(x=8, color='y', linestyle='--')\n",
    "plt.title('Silhouette Score')\n",
    "plt.xlabel('Number of clusters')\n",
    "plt.ylabel('Silhouette Score')\n",
    "plt.show()"
   ]
  },
  {
   "cell_type": "markdown",
   "metadata": {},
   "source": [
    "&emsp; ***Optimal number of clusters***\n",
    "\n",
    "\n",
    "Based on the Elbow plot of WCSS and Silhouette score, we can see that the rate of drop in WCSS decreases after 6 clusters i.e after red dashed line. Hence, we can conclude that 6 clusters are optimal for our data. Next, I'll create parallel plots to visualize the clusters centroids"
   ]
  },
  {
   "cell_type": "code",
   "execution_count": 6,
   "metadata": {},
   "outputs": [
    {
     "data": {
      "application/vnd.plotly.v1+json": {
       "config": {
        "plotlyServerURL": "https://plot.ly"
       },
       "data": [
        {
         "dimensions": [
          {
           "label": "precip",
           "values": [
            -0.12401539089413849,
            5.243797965376625,
            -0.1177509340395873,
            -0.10423729429932711,
            -0.12747546127159012,
            0.927430554236487
           ]
          },
          {
           "label": "max_temp",
           "values": [
            0.24722945536134347,
            0.18641985550521817,
            -0.9538590360316204,
            -0.8173064454236542,
            0.8370884979764989,
            0.10576266660837098
           ]
          },
          {
           "label": "min_temp",
           "values": [
            0.20926975872415182,
            0.7770246751343032,
            -1.0060212615508854,
            -0.8505523361798073,
            0.8626044138812877,
            0.7529471668191533
           ]
          },
          {
           "label": "gwl",
           "values": [
            -1.0763848330871617,
            -0.2249848081228751,
            0.3586445230008145,
            -0.06317633368786564,
            0.45739742428410424,
            -0.6118097328507546
           ]
          },
          {
           "label": "daily_discharge_cfs",
           "values": [
            -0.008279994817226263,
            0.40532789465798214,
            -0.13882799614438224,
            -0.016609240008344146,
            -0.11074053698944956,
            7.7870418918891025
           ]
          },
          {
           "label": "sm_pca",
           "values": [
            -0.03406880476937515,
            -0.2327613278511445,
            0.1409706072408287,
            2.2825464879744195,
            -0.5974463196273749,
            -0.1848567900598489
           ]
          },
          {
           "label": "st_pca",
           "values": [
            1.0508922971182757,
            -0.09563292095098594,
            0.18371754933923254,
            0.32065302508205196,
            -0.9428909713071236,
            0.24891639432652635
           ]
          },
          {
           "label": "cluster",
           "values": [
            0,
            1,
            2,
            3,
            4,
            5
           ]
          }
         ],
         "domain": {
          "x": [
           0,
           1
          ],
          "y": [
           0,
           1
          ]
         },
         "line": {
          "color": [
           0,
           1,
           2,
           3,
           4,
           5
          ],
          "coloraxis": "coloraxis"
         },
         "name": "",
         "type": "parcoords"
        }
       ],
       "layout": {
        "coloraxis": {
         "colorbar": {
          "title": {
           "text": "cluster"
          }
         },
         "colorscale": [
          [
           0,
           "#440154"
          ],
          [
           0.1111111111111111,
           "#482878"
          ],
          [
           0.2222222222222222,
           "#3e4989"
          ],
          [
           0.3333333333333333,
           "#31688e"
          ],
          [
           0.4444444444444444,
           "#26828e"
          ],
          [
           0.5555555555555556,
           "#1f9e89"
          ],
          [
           0.6666666666666666,
           "#35b779"
          ],
          [
           0.7777777777777778,
           "#6ece58"
          ],
          [
           0.8888888888888888,
           "#b5de2b"
          ],
          [
           1,
           "#fde725"
          ]
         ]
        },
        "legend": {
         "tracegroupgap": 0
        },
        "margin": {
         "t": 60
        },
        "template": {
         "data": {
          "bar": [
           {
            "error_x": {
             "color": "#2a3f5f"
            },
            "error_y": {
             "color": "#2a3f5f"
            },
            "marker": {
             "line": {
              "color": "#E5ECF6",
              "width": 0.5
             },
             "pattern": {
              "fillmode": "overlay",
              "size": 10,
              "solidity": 0.2
             }
            },
            "type": "bar"
           }
          ],
          "barpolar": [
           {
            "marker": {
             "line": {
              "color": "#E5ECF6",
              "width": 0.5
             },
             "pattern": {
              "fillmode": "overlay",
              "size": 10,
              "solidity": 0.2
             }
            },
            "type": "barpolar"
           }
          ],
          "carpet": [
           {
            "aaxis": {
             "endlinecolor": "#2a3f5f",
             "gridcolor": "white",
             "linecolor": "white",
             "minorgridcolor": "white",
             "startlinecolor": "#2a3f5f"
            },
            "baxis": {
             "endlinecolor": "#2a3f5f",
             "gridcolor": "white",
             "linecolor": "white",
             "minorgridcolor": "white",
             "startlinecolor": "#2a3f5f"
            },
            "type": "carpet"
           }
          ],
          "choropleth": [
           {
            "colorbar": {
             "outlinewidth": 0,
             "ticks": ""
            },
            "type": "choropleth"
           }
          ],
          "contour": [
           {
            "colorbar": {
             "outlinewidth": 0,
             "ticks": ""
            },
            "colorscale": [
             [
              0,
              "#0d0887"
             ],
             [
              0.1111111111111111,
              "#46039f"
             ],
             [
              0.2222222222222222,
              "#7201a8"
             ],
             [
              0.3333333333333333,
              "#9c179e"
             ],
             [
              0.4444444444444444,
              "#bd3786"
             ],
             [
              0.5555555555555556,
              "#d8576b"
             ],
             [
              0.6666666666666666,
              "#ed7953"
             ],
             [
              0.7777777777777778,
              "#fb9f3a"
             ],
             [
              0.8888888888888888,
              "#fdca26"
             ],
             [
              1,
              "#f0f921"
             ]
            ],
            "type": "contour"
           }
          ],
          "contourcarpet": [
           {
            "colorbar": {
             "outlinewidth": 0,
             "ticks": ""
            },
            "type": "contourcarpet"
           }
          ],
          "heatmap": [
           {
            "colorbar": {
             "outlinewidth": 0,
             "ticks": ""
            },
            "colorscale": [
             [
              0,
              "#0d0887"
             ],
             [
              0.1111111111111111,
              "#46039f"
             ],
             [
              0.2222222222222222,
              "#7201a8"
             ],
             [
              0.3333333333333333,
              "#9c179e"
             ],
             [
              0.4444444444444444,
              "#bd3786"
             ],
             [
              0.5555555555555556,
              "#d8576b"
             ],
             [
              0.6666666666666666,
              "#ed7953"
             ],
             [
              0.7777777777777778,
              "#fb9f3a"
             ],
             [
              0.8888888888888888,
              "#fdca26"
             ],
             [
              1,
              "#f0f921"
             ]
            ],
            "type": "heatmap"
           }
          ],
          "heatmapgl": [
           {
            "colorbar": {
             "outlinewidth": 0,
             "ticks": ""
            },
            "colorscale": [
             [
              0,
              "#0d0887"
             ],
             [
              0.1111111111111111,
              "#46039f"
             ],
             [
              0.2222222222222222,
              "#7201a8"
             ],
             [
              0.3333333333333333,
              "#9c179e"
             ],
             [
              0.4444444444444444,
              "#bd3786"
             ],
             [
              0.5555555555555556,
              "#d8576b"
             ],
             [
              0.6666666666666666,
              "#ed7953"
             ],
             [
              0.7777777777777778,
              "#fb9f3a"
             ],
             [
              0.8888888888888888,
              "#fdca26"
             ],
             [
              1,
              "#f0f921"
             ]
            ],
            "type": "heatmapgl"
           }
          ],
          "histogram": [
           {
            "marker": {
             "pattern": {
              "fillmode": "overlay",
              "size": 10,
              "solidity": 0.2
             }
            },
            "type": "histogram"
           }
          ],
          "histogram2d": [
           {
            "colorbar": {
             "outlinewidth": 0,
             "ticks": ""
            },
            "colorscale": [
             [
              0,
              "#0d0887"
             ],
             [
              0.1111111111111111,
              "#46039f"
             ],
             [
              0.2222222222222222,
              "#7201a8"
             ],
             [
              0.3333333333333333,
              "#9c179e"
             ],
             [
              0.4444444444444444,
              "#bd3786"
             ],
             [
              0.5555555555555556,
              "#d8576b"
             ],
             [
              0.6666666666666666,
              "#ed7953"
             ],
             [
              0.7777777777777778,
              "#fb9f3a"
             ],
             [
              0.8888888888888888,
              "#fdca26"
             ],
             [
              1,
              "#f0f921"
             ]
            ],
            "type": "histogram2d"
           }
          ],
          "histogram2dcontour": [
           {
            "colorbar": {
             "outlinewidth": 0,
             "ticks": ""
            },
            "colorscale": [
             [
              0,
              "#0d0887"
             ],
             [
              0.1111111111111111,
              "#46039f"
             ],
             [
              0.2222222222222222,
              "#7201a8"
             ],
             [
              0.3333333333333333,
              "#9c179e"
             ],
             [
              0.4444444444444444,
              "#bd3786"
             ],
             [
              0.5555555555555556,
              "#d8576b"
             ],
             [
              0.6666666666666666,
              "#ed7953"
             ],
             [
              0.7777777777777778,
              "#fb9f3a"
             ],
             [
              0.8888888888888888,
              "#fdca26"
             ],
             [
              1,
              "#f0f921"
             ]
            ],
            "type": "histogram2dcontour"
           }
          ],
          "mesh3d": [
           {
            "colorbar": {
             "outlinewidth": 0,
             "ticks": ""
            },
            "type": "mesh3d"
           }
          ],
          "parcoords": [
           {
            "line": {
             "colorbar": {
              "outlinewidth": 0,
              "ticks": ""
             }
            },
            "type": "parcoords"
           }
          ],
          "pie": [
           {
            "automargin": true,
            "type": "pie"
           }
          ],
          "scatter": [
           {
            "fillpattern": {
             "fillmode": "overlay",
             "size": 10,
             "solidity": 0.2
            },
            "type": "scatter"
           }
          ],
          "scatter3d": [
           {
            "line": {
             "colorbar": {
              "outlinewidth": 0,
              "ticks": ""
             }
            },
            "marker": {
             "colorbar": {
              "outlinewidth": 0,
              "ticks": ""
             }
            },
            "type": "scatter3d"
           }
          ],
          "scattercarpet": [
           {
            "marker": {
             "colorbar": {
              "outlinewidth": 0,
              "ticks": ""
             }
            },
            "type": "scattercarpet"
           }
          ],
          "scattergeo": [
           {
            "marker": {
             "colorbar": {
              "outlinewidth": 0,
              "ticks": ""
             }
            },
            "type": "scattergeo"
           }
          ],
          "scattergl": [
           {
            "marker": {
             "colorbar": {
              "outlinewidth": 0,
              "ticks": ""
             }
            },
            "type": "scattergl"
           }
          ],
          "scattermapbox": [
           {
            "marker": {
             "colorbar": {
              "outlinewidth": 0,
              "ticks": ""
             }
            },
            "type": "scattermapbox"
           }
          ],
          "scatterpolar": [
           {
            "marker": {
             "colorbar": {
              "outlinewidth": 0,
              "ticks": ""
             }
            },
            "type": "scatterpolar"
           }
          ],
          "scatterpolargl": [
           {
            "marker": {
             "colorbar": {
              "outlinewidth": 0,
              "ticks": ""
             }
            },
            "type": "scatterpolargl"
           }
          ],
          "scatterternary": [
           {
            "marker": {
             "colorbar": {
              "outlinewidth": 0,
              "ticks": ""
             }
            },
            "type": "scatterternary"
           }
          ],
          "surface": [
           {
            "colorbar": {
             "outlinewidth": 0,
             "ticks": ""
            },
            "colorscale": [
             [
              0,
              "#0d0887"
             ],
             [
              0.1111111111111111,
              "#46039f"
             ],
             [
              0.2222222222222222,
              "#7201a8"
             ],
             [
              0.3333333333333333,
              "#9c179e"
             ],
             [
              0.4444444444444444,
              "#bd3786"
             ],
             [
              0.5555555555555556,
              "#d8576b"
             ],
             [
              0.6666666666666666,
              "#ed7953"
             ],
             [
              0.7777777777777778,
              "#fb9f3a"
             ],
             [
              0.8888888888888888,
              "#fdca26"
             ],
             [
              1,
              "#f0f921"
             ]
            ],
            "type": "surface"
           }
          ],
          "table": [
           {
            "cells": {
             "fill": {
              "color": "#EBF0F8"
             },
             "line": {
              "color": "white"
             }
            },
            "header": {
             "fill": {
              "color": "#C8D4E3"
             },
             "line": {
              "color": "white"
             }
            },
            "type": "table"
           }
          ]
         },
         "layout": {
          "annotationdefaults": {
           "arrowcolor": "#2a3f5f",
           "arrowhead": 0,
           "arrowwidth": 1
          },
          "autotypenumbers": "strict",
          "coloraxis": {
           "colorbar": {
            "outlinewidth": 0,
            "ticks": ""
           }
          },
          "colorscale": {
           "diverging": [
            [
             0,
             "#8e0152"
            ],
            [
             0.1,
             "#c51b7d"
            ],
            [
             0.2,
             "#de77ae"
            ],
            [
             0.3,
             "#f1b6da"
            ],
            [
             0.4,
             "#fde0ef"
            ],
            [
             0.5,
             "#f7f7f7"
            ],
            [
             0.6,
             "#e6f5d0"
            ],
            [
             0.7,
             "#b8e186"
            ],
            [
             0.8,
             "#7fbc41"
            ],
            [
             0.9,
             "#4d9221"
            ],
            [
             1,
             "#276419"
            ]
           ],
           "sequential": [
            [
             0,
             "#0d0887"
            ],
            [
             0.1111111111111111,
             "#46039f"
            ],
            [
             0.2222222222222222,
             "#7201a8"
            ],
            [
             0.3333333333333333,
             "#9c179e"
            ],
            [
             0.4444444444444444,
             "#bd3786"
            ],
            [
             0.5555555555555556,
             "#d8576b"
            ],
            [
             0.6666666666666666,
             "#ed7953"
            ],
            [
             0.7777777777777778,
             "#fb9f3a"
            ],
            [
             0.8888888888888888,
             "#fdca26"
            ],
            [
             1,
             "#f0f921"
            ]
           ],
           "sequentialminus": [
            [
             0,
             "#0d0887"
            ],
            [
             0.1111111111111111,
             "#46039f"
            ],
            [
             0.2222222222222222,
             "#7201a8"
            ],
            [
             0.3333333333333333,
             "#9c179e"
            ],
            [
             0.4444444444444444,
             "#bd3786"
            ],
            [
             0.5555555555555556,
             "#d8576b"
            ],
            [
             0.6666666666666666,
             "#ed7953"
            ],
            [
             0.7777777777777778,
             "#fb9f3a"
            ],
            [
             0.8888888888888888,
             "#fdca26"
            ],
            [
             1,
             "#f0f921"
            ]
           ]
          },
          "colorway": [
           "#636efa",
           "#EF553B",
           "#00cc96",
           "#ab63fa",
           "#FFA15A",
           "#19d3f3",
           "#FF6692",
           "#B6E880",
           "#FF97FF",
           "#FECB52"
          ],
          "font": {
           "color": "#2a3f5f"
          },
          "geo": {
           "bgcolor": "white",
           "lakecolor": "white",
           "landcolor": "#E5ECF6",
           "showlakes": true,
           "showland": true,
           "subunitcolor": "white"
          },
          "hoverlabel": {
           "align": "left"
          },
          "hovermode": "closest",
          "mapbox": {
           "style": "light"
          },
          "paper_bgcolor": "white",
          "plot_bgcolor": "#E5ECF6",
          "polar": {
           "angularaxis": {
            "gridcolor": "white",
            "linecolor": "white",
            "ticks": ""
           },
           "bgcolor": "#E5ECF6",
           "radialaxis": {
            "gridcolor": "white",
            "linecolor": "white",
            "ticks": ""
           }
          },
          "scene": {
           "xaxis": {
            "backgroundcolor": "#E5ECF6",
            "gridcolor": "white",
            "gridwidth": 2,
            "linecolor": "white",
            "showbackground": true,
            "ticks": "",
            "zerolinecolor": "white"
           },
           "yaxis": {
            "backgroundcolor": "#E5ECF6",
            "gridcolor": "white",
            "gridwidth": 2,
            "linecolor": "white",
            "showbackground": true,
            "ticks": "",
            "zerolinecolor": "white"
           },
           "zaxis": {
            "backgroundcolor": "#E5ECF6",
            "gridcolor": "white",
            "gridwidth": 2,
            "linecolor": "white",
            "showbackground": true,
            "ticks": "",
            "zerolinecolor": "white"
           }
          },
          "shapedefaults": {
           "line": {
            "color": "#2a3f5f"
           }
          },
          "ternary": {
           "aaxis": {
            "gridcolor": "white",
            "linecolor": "white",
            "ticks": ""
           },
           "baxis": {
            "gridcolor": "white",
            "linecolor": "white",
            "ticks": ""
           },
           "bgcolor": "#E5ECF6",
           "caxis": {
            "gridcolor": "white",
            "linecolor": "white",
            "ticks": ""
           }
          },
          "title": {
           "x": 0.05
          },
          "xaxis": {
           "automargin": true,
           "gridcolor": "white",
           "linecolor": "white",
           "ticks": "",
           "title": {
            "standoff": 15
           },
           "zerolinecolor": "white",
           "zerolinewidth": 2
          },
          "yaxis": {
           "automargin": true,
           "gridcolor": "white",
           "linecolor": "white",
           "ticks": "",
           "title": {
            "standoff": 15
           },
           "zerolinecolor": "white",
           "zerolinewidth": 2
          }
         }
        }
       }
      }
     },
     "metadata": {},
     "output_type": "display_data"
    }
   ],
   "source": [
    "kmeans = KMeans(n_clusters=6, init='k-means++', max_iter=300, n_init=10, random_state=0)\n",
    "kmeans.fit(X)\n",
    "\n",
    "# Adding cluster labels to the dataframe\n",
    "df_centroids = pd.DataFrame(kmeans.cluster_centers_, columns=features)\n",
    "df_centroids['cluster'] = df_centroids.index\n",
    "\n",
    "fig = px.parallel_coordinates(df_centroids, color='cluster', color_continuous_scale=px.colors.sequential.Viridis)\n",
    "fig.show()"
   ]
  },
  {
   "cell_type": "markdown",
   "metadata": {},
   "source": [
    "&emsp; ***Meaning of the parallel coords. plot***\n",
    "\n",
    "\n",
    "From the plot we can see that: \n",
    "\n",
    "Cluster Profiles - Each line represents a cluster centroid, and its position along each axis shows the average value of that cluster for the corresponding feature. For instance, the \"precip\" axis shows how much the average precipitation differs among clusters.\n",
    "\n",
    "Feature Influence - The variation in the lines across an axis indicates how influential that feature is in differentiating clusters. For example, if the lines diverge widely at a specific axis, that feature contributes significantly to distinguishing the clusters.\n",
    "\n",
    "Cluster Comparison - By observing the patterns of the lines, you can compare clusters. For example, some clusters might have high values for \"precip\" but low values for \"gwl\" or \"daily_discharge_cfs\" and clusters that show little deviation across all axes might represent groups with less distinct characteristics.\n",
    "\n",
    "Finally, I'll perform a hierarchical clustering"
   ]
  },
  {
   "cell_type": "code",
   "execution_count": 7,
   "metadata": {},
   "outputs": [
    {
     "data": {
      "image/png": "[encoded data removed]",
      "text/plain": [
       "<Figure size 1200x800 with 1 Axes>"
      ]
     },
     "metadata": {},
     "output_type": "display_data"
    }
   ],
   "source": [
    "# Performing Heirarchical clustering and plotting the dendrogram\n",
    "\n",
    "Z = linkage(X, 'ward')\n",
    "\n",
    "plt.figure(figsize=(12, 8))\n",
    "dendrogram(Z)\n",
    "plt.title('Dendrogram')\n",
    "plt.xlabel('Index')\n",
    "plt.ylabel('Distance')\n",
    "plt.show()"
   ]
  },
  {
   "cell_type": "markdown",
   "metadata": {},
   "source": [
    "The dendrogram is a tree-like diagram that represents the hierarchical clustering of your data. It helps you understand how data points are grouped together based on their similarity.\n",
    "\n",
    "The key components are the x axis which represents the data points or observations. The labels are often omitted or condensed if there are many data points; The y axis represents the distance or dissimilarity between clusters. The height at which two clusters are merged reflects their dissimilarity and each branch represents a cluster. As you move up, branches merge into larger clusters."
   ]
  }
 ],
 "metadata": {
  "kernelspec": {
   "display_name": "base",
   "language": "python",
   "name": "python3"
  },
  "language_info": {
   "codemirror_mode": {
    "name": "ipython",
    "version": 3
   },
   "file_extension": ".py",
   "mimetype": "text/x-python",
   "name": "python",
   "nbconvert_exporter": "python",
   "pygments_lexer": "ipython3",
   "version": "3.12.7"
  }
 },
 "nbformat": 4,
 "nbformat_minor": 2
}
